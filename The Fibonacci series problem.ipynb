{
 "metadata": {
  "name": ""
 },
 "nbformat": 3,
 "nbformat_minor": 0,
 "worksheets": [
  {
   "cells": [
    {
     "cell_type": "heading",
     "level": 1,
     "metadata": {},
     "source": [
      "Class 2"
     ]
    },
    {
     "cell_type": "markdown",
     "metadata": {},
     "source": [
      "Will will be doing Assignment 1 in class today after Quiz 1.\n",
      "If you have not already set up a [Github](https://github.com/) account, please do so now. Make sure you are added to the class organization.\n",
      "Also please install IPython by installing [Anaconda](http://ipython.org/install.html)."
     ]
    },
    {
     "cell_type": "heading",
     "level": 2,
     "metadata": {},
     "source": [
      "Quiz 1"
     ]
    },
    {
     "cell_type": "markdown",
     "metadata": {},
     "source": [
      "You will each be using Github to submit your quiz answers. For this quiz only, you will be allowed assistance in completing the quiz."
     ]
    },
    {
     "cell_type": "heading",
     "level": 2,
     "metadata": {},
     "source": [
      "The Fibonacci series problem"
     ]
    },
    {
     "cell_type": "markdown",
     "metadata": {},
     "source": [
      "This quick script will introduce you to several concepts at once. Our goal will be to write out the [Fibonacci series](http://en.wikipedia.org/wiki/Fibonacci_number) up to 100. This will introduce multiple assignment, looping (with the **while** loop), and the **print** statement as output."
     ]
    },
    {
     "cell_type": "markdown",
     "metadata": {},
     "source": [
      "We start off our script with comments explaining the purpose of this code."
     ]
    },
    {
     "cell_type": "code",
     "collapsed": false,
     "input": [
      "# Fibonacci series:\n",
      "# The sum of two elements defines the next"
     ],
     "language": "python",
     "metadata": {},
     "outputs": [],
     "prompt_number": 1
    },
    {
     "cell_type": "markdown",
     "metadata": {},
     "source": [
      "Now we are going to use multiple assignment to assignment variable ```a``` and ```b``` at the same time. The variables are assigned left to right to the values in order left to right."
     ]
    },
    {
     "cell_type": "code",
     "collapsed": false,
     "input": [
      "a,b = 0,1 #Initialize two variables at once by multiple assignment"
     ],
     "language": "python",
     "metadata": {},
     "outputs": [],
     "prompt_number": 11
    },
    {
     "cell_type": "code",
     "collapsed": false,
     "input": [
      "print b"
     ],
     "language": "python",
     "metadata": {},
     "outputs": [
      {
       "output_type": "stream",
       "stream": "stdout",
       "text": [
        "1\n"
       ]
      }
     ],
     "prompt_number": 12
    },
    {
     "cell_type": "markdown",
     "metadata": {},
     "source": [
      "Next we will start a ```while``` loop. A ```while``` loop will execute a block of statements repeatedly as long as the while condition is true."
     ]
    },
    {
     "cell_type": "code",
     "collapsed": false,
     "input": [
      "while b < 100:\n",
      "    print b\n",
      "    a,b = b,a+b\n",
      "    #a = b\n",
      "    #b = a+b\n",
      "print \"Done!\""
     ],
     "language": "python",
     "metadata": {},
     "outputs": [
      {
       "output_type": "stream",
       "stream": "stdout",
       "text": [
        "1\n",
        "1\n",
        "2\n",
        "3\n",
        "5\n",
        "8\n",
        "13\n",
        "21\n",
        "34\n",
        "55\n",
        "89\n",
        "Done!\n"
       ]
      }
     ],
     "prompt_number": 13
    },
    {
     "cell_type": "markdown",
     "metadata": {},
     "source": [
      "Let's take a look at what is going on here. First we initialize the statement with the keyword ```while``` and then follow with a condition, ```b < 10```. The condition makes its first check. ```b``` is 1 (why?), so the condition is true and we execute the ```while``` block that follows after the colon.  \n",
      "\n",
      "In Python, unlike many other languages, the a multi-line block is designated by spacing. The first line is indented, in this case with four spaces. The spacing does not have to be exactly four spaces, but it does need to be consistient across a code block. You can learn more about Python identation and some of the myths that go with it at [Python: Myths about Indentation](http://www.secnetix.de/~olli/Python/block_indentation.hawk).\n",
      "\n",
      "There are two lines in the ```while``` block  \n",
      "```\n",
      "    print b\n",
      "    a,b = b,a+b\n",
      "```\n",
      "Both statements execute. The first statement is a ```print``` statement, which will evaluate the string equivalent of its argument and send the resulting string to the standard output (in this case, our IPython notebook). Since ```b``` is assigned the integer 1, that evalutes to the string \"1\" and \"1\" is sent to the standard output.\n",
      "The second statement is another multiple assignment. But before assignment happens, the right-hand side of the assignment happens from left to right.\n",
      "```a,b = 1,a+b\n",
      "a,b = 1,0+1\n",
      "a,b = 1,1\n",
      "a = 1; b = 1\n",
      "```  \n",
      "\n",
      "We reach the end of the block, and loop back up to evaluate the ```while``` statement again.\n",
      "Notice that we print the phrase \"Done!\" only once. This line is dedented, which signals that it is not part of the ```while``` block and so not part of the loop."
     ]
    }
   ],
   "metadata": {}
  }
 ]
}