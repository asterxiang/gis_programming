{
 "metadata": {
  "name": ""
 },
 "nbformat": 3,
 "nbformat_minor": 0,
 "worksheets": [
  {
   "cells": [
    {
     "cell_type": "heading",
     "level": 1,
     "metadata": {},
     "source": [
      "Functions"
     ]
    },
    {
     "cell_type": "heading",
     "level": 6,
     "metadata": {},
     "source": [
      "Relevant Readings:\n",
      "    [Learning Python Chapter 16](http://proquest.safaribooksonline.com/book/programming/python/9781449355722/ivdot-functions-and-generators/ch16_html)"
     ]
    },
    {
     "cell_type": "markdown",
     "metadata": {},
     "source": [
      "In our last exercise, we created a short script that printed out the Fibonacci series up to the highest value less than 100."
     ]
    },
    {
     "cell_type": "code",
     "collapsed": false,
     "input": [
      "# Fibonacci series:\n",
      "# The sum of two elements defines the next\n",
      "a,b = 0,1 #Initialize two variables at once by multiple assignment\n",
      "while b < 200:\n",
      "    print b\n",
      "    a,b = b,a+b\n",
      "print \"Done!\""
     ],
     "language": "python",
     "metadata": {},
     "outputs": [
      {
       "output_type": "stream",
       "stream": "stdout",
       "text": [
        "1\n",
        "1\n",
        "2\n",
        "3\n",
        "5\n",
        "8\n",
        "13\n",
        "21\n",
        "34\n",
        "55\n",
        "89\n",
        "144\n",
        "Done!\n"
       ]
      }
     ],
     "prompt_number": 3
    },
    {
     "cell_type": "markdown",
     "metadata": {},
     "source": [
      "One problem here is that to reprint the series with a new boundary value, we have to rewrite the entire code snippet, changing our ```while``` loop condition every time. What if we wanted to make this code snippet more reusable and flexible, so that we can use different boundary values without a rewrite? \n",
      "\n",
      "To do this, we can define a function.  "
     ]
    },
    {
     "cell_type": "code",
     "collapsed": false,
     "input": [
      "def fib(n):    # write Fibonacci series up to n\n",
      "     \"\"\"Print a Fibonacci series up to n.\"\"\"\n",
      "     a, b = 0, 1\n",
      "     while a < n:\n",
      "         print a,\n",
      "         a, b = b, a+b\n",
      "     return a\n",
      "fib(200)"
     ],
     "language": "python",
     "metadata": {},
     "outputs": [
      {
       "output_type": "stream",
       "stream": "stdout",
       "text": [
        "0 1 1 2 3 5 8 13 21 34 55 89 144"
       ]
      },
      {
       "metadata": {},
       "output_type": "pyout",
       "prompt_number": 12,
       "text": [
        "233"
       ]
      },
      {
       "output_type": "stream",
       "stream": "stdout",
       "text": [
        "\n"
       ]
      }
     ],
     "prompt_number": 12
    },
    {
     "cell_type": "markdown",
     "metadata": {},
     "source": [
      "Unlike our previous code snippets, we have to define the function at all once rather than being able to execute line by line. If you use the Python interpretor in IDLE, you will see that as you start to type the definition, you will get a line continuation until you finish the code block.\n",
      "\n",
      "    >>> def fib(n):    # write Fibonacci series up to n  \n",
      "    ...     \"\"\"Print a Fibonacci series up to n.\"\"\"  \n",
      "    ...     a, b = 0, 1  \n",
      "    ...     while a < n:  \n",
      "    ...         print a,  \n",
      "    ...         a, b = b, a+b  \n",
      "    ...\n",
      "\n",
      "The first line introduces the ```def``` keyword. This keyword is followed by the function name and the parenthesized list of formal parameters. The next line starts the code block that is executed by the function, and must be indented. This code block is the **function body**.\n",
      "\n",
      "The next statement is not a comment. It is a string literal know as a *docstring*. Docstrings help provide automatic documentation of your function and make it easier for others to use your function. We will learn more on that when we discuss coding style.\n",
      "\n",
      "Now that you have defined your function, try the following statement:"
     ]
    },
    {
     "cell_type": "code",
     "collapsed": false,
     "input": [
      "print a"
     ],
     "language": "python",
     "metadata": {},
     "outputs": [
      {
       "ename": "NameError",
       "evalue": "name 'a' is not defined",
       "output_type": "pyerr",
       "traceback": [
        "\u001b[1;31m---------------------------------------------------------------------------\u001b[0m\n\u001b[1;31mNameError\u001b[0m                                 Traceback (most recent call last)",
        "\u001b[1;32m<ipython-input-6-9d7b17ad5387>\u001b[0m in \u001b[0;36m<module>\u001b[1;34m()\u001b[0m\n\u001b[1;32m----> 1\u001b[1;33m \u001b[1;32mprint\u001b[0m \u001b[0ma\u001b[0m\u001b[1;33m\u001b[0m\u001b[0m\n\u001b[0m",
        "\u001b[1;31mNameError\u001b[0m: name 'a' is not defined"
       ]
      }
     ],
     "prompt_number": 6
    },
    {
     "cell_type": "markdown",
     "metadata": {},
     "source": [
      "Did you get an error that ```a``` was not defined? Why is this?  \n",
      "\n",
      "Even though the variable ```a``` is assigned inside ```fib``` that variable, or symbol, belongs just to the function ```fib```. It is part of its local symbol table. It does not belong to the global symbol table, which contains all of the variables you have assigned at the interactive prompt, or global scope. If you attempt to assign a balue to a global variable inside of a function, you will instead create a local variable that belongs just to that function (unless you use the ```global``` keyword).\n",
      "\n",
      "So, when you assign\n",
      "    \n",
      "    a, b = 0, 1\n",
      "    \n",
      "You are creating two local variables that are visible only inside of the ```fib``` function. But that creates a different question. In the next statement\n",
      "    \n",
      "    while a < n:\n",
      "    \n",
      "where does ```n``` come from and what is its scope? Look back up at our ```def``` statement and the list of formal parameters. We have one formal parameter, ```n```, which is visible inside the scope of ```fib```. Outside fib?"
     ]
    },
    {
     "cell_type": "code",
     "collapsed": false,
     "input": [
      "#print n\n"
     ],
     "language": "python",
     "metadata": {},
     "outputs": [
      {
       "output_type": "stream",
       "stream": "stdout",
       "text": [
        "0 1 1 2 3 5 8 13 21 34 55 89 144\n"
       ]
      }
     ],
     "prompt_number": 7
    },
    {
     "cell_type": "markdown",
     "metadata": {},
     "source": [
      "Just like our local variables ```a``` and ```b```, the formal parameter ```n``` is not visible."
     ]
    }
   ],
   "metadata": {}
  }
 ]
}